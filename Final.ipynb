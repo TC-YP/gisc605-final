{
  "nbformat": 4,
  "nbformat_minor": 0,
  "metadata": {
    "colab": {
      "provenance": []
    },
    "kernelspec": {
      "name": "python3",
      "display_name": "Python 3"
    },
    "language_info": {
      "name": "python"
    }
  },
  "cells": [
    {
      "cell_type": "code",
      "execution_count": 1,
      "metadata": {
        "id": "4_0c9BHe9CzE"
      },
      "outputs": [],
      "source": [
        "def howdy_planet():\n",
        "  print(\"Howdy Planet!\")"
      ]
    },
    {
      "cell_type": "code",
      "source": [
        "directions = [\"North\", \"South\", \"East\", \"West\"]\n",
        "\n",
        "for direct in directions:\n",
        "  print(direct)"
      ],
      "metadata": {
        "colab": {
          "base_uri": "https://localhost:8080/"
        },
        "id": "GT4hbRcI9Hxb",
        "outputId": "c0c3bd03-dd95-4bab-df73-b243c2979872"
      },
      "execution_count": 2,
      "outputs": [
        {
          "output_type": "stream",
          "name": "stdout",
          "text": [
            "North\n",
            "South\n",
            "East\n",
            "West\n"
          ]
        }
      ]
    },
    {
      "cell_type": "code",
      "source": [],
      "metadata": {
        "id": "yYKZ2awi9K4h"
      },
      "execution_count": null,
      "outputs": []
    }
  ]
}