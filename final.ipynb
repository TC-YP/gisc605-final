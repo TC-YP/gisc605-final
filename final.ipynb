def howdy_planet():
  print("Howdy Planet!")

directions = ["North", "South", "East", "West"]

for direct in directions:
  print(direct)
